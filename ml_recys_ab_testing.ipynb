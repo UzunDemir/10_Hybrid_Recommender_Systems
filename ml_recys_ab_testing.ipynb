{
  "cells": [
    {
      "cell_type": "markdown",
      "metadata": {
        "id": "view-in-github",
        "colab_type": "text"
      },
      "source": [
        "<a href=\"https://colab.research.google.com/github/UzunDemir/10_Hybrid_Recommender_Systems/blob/main/ml_recys_ab_testing.ipynb\" target=\"_parent\"><img src=\"https://colab.research.google.com/assets/colab-badge.svg\" alt=\"Open In Colab\"/></a>"
      ]
    },
    {
      "cell_type": "markdown",
      "source": [
        "Для проведения A/B-теста важно правильно структурировать подход. Вот основные шаги, которые помогут его провести:\n",
        "\n",
        "1. Определение цели\n",
        "Прежде чем начать, нужно четко понять, что вы хотите протестировать. Например:\n",
        "\n",
        "Изменение на странице (дизайн, текст, расположение элементов).\n",
        "Изменение функциональности (новая функция, улучшенная форма).\n",
        "Целью может быть повышение конверсии, снижение отказов, увеличение времени на странице и т.д.\n",
        "\n",
        "2. Формулировка гипотезы\n",
        "Пример гипотезы: \"Изменение кнопки призыва к действию с синей на зеленую увеличит количество кликов на 10%.\"\n",
        "\n",
        "3. Выбор метрики\n",
        "Необходимо выбрать одну или несколько метрик, которые будут измерять успешность эксперимента. Это могут быть:\n",
        "\n",
        "Конверсии.\n",
        "Среднее время на сайте.\n",
        "CTR (click-through rate).\n",
        "4. Разделение на группы\n",
        "Традиционно существует две группы:\n",
        "\n",
        "Группа A (контрольная): остается в текущем состоянии (например, синие кнопки).\n",
        "Группа B (тестовая): получает новое состояние (например, зеленые кнопки).\n",
        "Обе группы должны быть одинаковыми по численности, чтобы минимизировать искажения. Также важно, чтобы выбор участников был случайным.\n",
        "\n",
        "5. Сбор данных\n",
        "Тест нужно провести на достаточном объеме трафика и в течение достаточного времени, чтобы получить статистически значимые результаты. Обычно минимум — это 1–2 недели или определенное количество взаимодействий (например, 1000+ пользователей на каждую группу).\n",
        "\n",
        "6. Анализ результатов\n",
        "После завершения теста соберите и проанализируйте данные. Для анализа используется статистический тест (например, t-тест для сравнения средних значений), чтобы определить, есть ли значимые различия между группами."
      ],
      "metadata": {
        "id": "5QUN8FFzEOdH"
      },
      "id": "5QUN8FFzEOdH"
    },
    {
      "cell_type": "code",
      "source": [
        "import numpy as np\n",
        "\n",
        "# Генерация случайных данных для двух групп\n",
        "np.random.seed(42)  # Фиксация генератора случайных чисел для воспроизводимости\n",
        "\n",
        "# Конверсии группы A (контрольная) и группы B (тестовая)\n",
        "group_A = np.random.normal(loc=0.12, scale=0.02, size=10000)  # средняя конверсия 12%, стандартное отклонение 2%\n",
        "group_B = np.random.normal(loc=0.14, scale=0.02, size=10000)  # средняя конверсия 14%, стандартное отклонение 2%\n",
        "\n",
        "# Убедимся, что конверсии находятся в пределах от 0 до 1\n",
        "group_A = np.clip(group_A, 0, 1)\n",
        "group_B = np.clip(group_B, 0, 1)\n",
        "\n",
        "# Выводим несколько значений для каждой группы\n",
        "print(\"Конверсии A (первые 10 значений):\", group_A[:10])\n",
        "print(\"Конверсии B (первые 10 значений):\", group_B[:10])\n"
      ],
      "metadata": {
        "colab": {
          "base_uri": "https://localhost:8080/"
        },
        "id": "0ZwYD9V1ES9f",
        "outputId": "1700bf0d-56bd-444e-896f-a24c9e3e43aa"
      },
      "id": "0ZwYD9V1ES9f",
      "execution_count": 3,
      "outputs": [
        {
          "output_type": "stream",
          "name": "stdout",
          "text": [
            "Конверсии A (первые 10 значений): [0.12993428 0.11723471 0.13295377 0.1504606  0.11531693 0.11531726\n",
            " 0.15158426 0.13534869 0.11061051 0.1308512 ]\n",
            "Конверсии B (первые 10 значений): [0.12643011 0.13389001 0.12805238 0.14220836 0.16394357 0.12457916\n",
            " 0.16001641 0.12436656 0.12304746 0.15637189]\n"
          ]
        }
      ]
    },
    {
      "cell_type": "code",
      "source": [
        "from scipy import stats\n",
        "\n",
        "\n",
        "# t-тест для независимых выборок\n",
        "t_stat, p_value = stats.ttest_ind(group_A, group_B)\n",
        "\n",
        "print(f'T-статистика: {t_stat}, P-значение: {p_value}')\n"
      ],
      "metadata": {
        "colab": {
          "base_uri": "https://localhost:8080/"
        },
        "id": "lHPoA2Q5Epq2",
        "outputId": "9916b332-9bc1-496d-ae97-e7dbb7c9f4b6"
      },
      "id": "lHPoA2Q5Epq2",
      "execution_count": 4,
      "outputs": [
        {
          "output_type": "stream",
          "name": "stdout",
          "text": [
            "T-статистика: -71.65841242493272, P-значение: 0.0\n"
          ]
        }
      ]
    },
    {
      "cell_type": "markdown",
      "source": [
        "**Конверсия** — это ключевая метрика, используемая в маркетинге, аналитике и бизнесе для оценки успешности выполнения пользователями целевого действия. Она показывает процент пользователей, которые выполнили желаемое действие из общего числа посетителей.\n",
        "\n",
        "### Пример конверсии:\n",
        "\n",
        "- Если на сайт зашло 1000 человек, и 50 из них совершили покупку, то конверсия равна 50 / 1000 = 5%.\n",
        "\n",
        "### Как считать конверсию:\n",
        "\n",
        "**Формула для расчета конверсии**:\n",
        "\\[\n",
        "\\text{Конверсия (\\%)} = \\left(\\frac{\\text{Количество пользователей, совершивших целевое действие}}{\\text{Общее количество пользователей}}\\right) \\times 100\n",
        "\\]\n",
        "\n",
        "### Основные виды конверсий:\n",
        "1. **Конверсия в покупку**: Процент пользователей, совершивших покупку, от общего числа посетителей сайта.\n",
        "2. **Конверсия в регистрацию**: Процент пользователей, зарегистрировавшихся на сайте.\n",
        "3. **Конверсия в клик по рекламе**: Процент пользователей, кликнувших по рекламному баннеру или объявлению.\n",
        "4. **Конверсия на подписку**: Процент пользователей, подписавшихся на рассылку.\n",
        "\n",
        "### Пример расчета конверсии:\n",
        "\n",
        "Допустим, у вас интернет-магазин, и на него за месяц зашло 5000 человек. Из них 250 человек совершили покупку.\n",
        "\n",
        "- Общее количество посетителей: 5000\n",
        "- Количество покупателей: 250\n",
        "\n",
        "\\[\n",
        "\\text{Конверсия (\\%)} = \\left(\\frac{250}{5000}\\right) \\times 100 = 5\\%\n",
        "\\]\n",
        "\n",
        "### Как посчитать конверсию в Python:\n",
        "\n",
        "```python\n",
        "# Данные\n",
        "total_visitors = 5000   # Общее количество посетителей\n",
        "purchases = 250         # Количество совершенных покупок\n",
        "\n",
        "# Рассчет конверсии\n",
        "conversion_rate = (purchases / total_visitors) * 100\n",
        "\n",
        "print(f'Конверсия: {conversion_rate:.2f}%')\n",
        "```\n",
        "\n",
        "### Интерпретация:\n",
        "- Если конверсия **низкая**, возможно, нужно улучшить продукт, рекламу, интерфейс сайта или другие факторы.\n",
        "- Если конверсия **высокая**, это свидетельствует о хорошем взаимодействии с пользователями и эффективной работе сайта или приложения.\n",
        "\n",
        "### Применение конверсии в A/B тестах:\n",
        "Конверсия — это часто используемая метрика для оценки эффективности изменений в A/B тестах. Вы можете сравнивать конверсии двух групп (контрольной и тестовой) для оценки эффекта изменений.\n"
      ],
      "metadata": {
        "id": "nancZKS8FeIW"
      },
      "id": "nancZKS8FeIW"
    },
    {
      "cell_type": "code",
      "execution_count": 5,
      "id": "d9ff4b0f",
      "metadata": {
        "id": "d9ff4b0f"
      },
      "outputs": [],
      "source": [
        "from statsmodels.stats.proportion import samplesize_proportions_2indep_onetail\n"
      ]
    },
    {
      "cell_type": "code",
      "source": [
        "# Пропорции конверсий в группах A и B\n",
        "prop_A = 0.01  # Конверсия в контрольной группе\n",
        "prop_B = 0.03  # Конверсия в тестовой группе\n",
        "\n",
        "# Параметры теста\n",
        "power = 0.8    # Мощность теста 80%\n",
        "alpha = 0.05   # Уровень значимости 5%\n",
        "\n",
        "# Расчет необходимого размера выборки\n",
        "sample_size = samplesize_proportions_2indep_onetail(prop_A, prop_B, power=power, alpha=alpha)\n",
        "\n",
        "print(f'Необходимый размер выборки для каждой группы: {sample_size:.0f}')"
      ],
      "metadata": {
        "colab": {
          "base_uri": "https://localhost:8080/"
        },
        "id": "QHOD_lOfGLv2",
        "outputId": "6a30a51b-4f19-45e5-87e6-732f784b2701"
      },
      "id": "QHOD_lOfGLv2",
      "execution_count": 8,
      "outputs": [
        {
          "output_type": "stream",
          "name": "stdout",
          "text": [
            "Необходимый размер выборки для каждой группы: 5301\n"
          ]
        }
      ]
    },
    {
      "cell_type": "code",
      "execution_count": 9,
      "id": "b82ba975",
      "metadata": {
        "colab": {
          "base_uri": "https://localhost:8080/"
        },
        "id": "b82ba975",
        "outputId": "84eb685b-d93b-4a54-d825-ea307a2ee527"
      },
      "outputs": [
        {
          "output_type": "execute_result",
          "data": {
            "text/plain": [
              "5300.739171069878"
            ]
          },
          "metadata": {},
          "execution_count": 9
        }
      ],
      "source": [
        "samplesize_proportions_2indep_onetail(diff=0.01, prop2=0.03, power=0.8, alpha=0.05)"
      ]
    },
    {
      "cell_type": "code",
      "source": [
        "import numpy as np\n",
        "from scipy.stats import bernoulli\n",
        "\n",
        "# Задаем вероятность успеха (например, конверсия 12%)\n",
        "p = 0.12\n",
        "\n",
        "# 1. Вероятность конверсии\n",
        "k_success = 1  # Успех (конверсия)\n",
        "prob_success = bernoulli.pmf(k_success, p)\n",
        "print(f'Вероятность конверсии: {prob_success:.4f}')\n",
        "\n",
        "# 2. Кумулятивная вероятность (до 1 успеха)\n",
        "k_failure = 0  # Неудача (без конверсии)\n",
        "cum_prob_failure = bernoulli.cdf(k_failure, p)\n",
        "print(f'Кумулятивная вероятность (неудача): {cum_prob_failure:.4f}')\n",
        "\n",
        "# 3. Генерация случайных выборок\n",
        "n = 1000  # Размер выборки\n",
        "samples = bernoulli.rvs(p, size=n)\n",
        "\n",
        "# Считаем конверсии\n",
        "conversion_rate = np.mean(samples)\n",
        "print(f'Сгенерированная конверсия: {conversion_rate:.4f}')\n"
      ],
      "metadata": {
        "colab": {
          "base_uri": "https://localhost:8080/"
        },
        "id": "kifcUgctG6VV",
        "outputId": "8ecbd0f0-58d8-4e81-b67a-c67e24dc4b17"
      },
      "id": "kifcUgctG6VV",
      "execution_count": 11,
      "outputs": [
        {
          "output_type": "stream",
          "name": "stdout",
          "text": [
            "Вероятность конверсии: 0.1200\n",
            "Кумулятивная вероятность (неудача): 0.8800\n",
            "Сгенерированная конверсия: 0.1110\n"
          ]
        }
      ]
    },
    {
      "cell_type": "code",
      "execution_count": 10,
      "id": "ebe77a15",
      "metadata": {
        "id": "ebe77a15"
      },
      "outputs": [],
      "source": [
        "from scipy.stats import bernoulli"
      ]
    },
    {
      "cell_type": "code",
      "execution_count": 12,
      "id": "19a94704",
      "metadata": {
        "id": "19a94704"
      },
      "outputs": [],
      "source": [
        "control_group = bernoulli.rvs(0.40, size=5300)\n",
        "target_group = bernoulli.rvs(0.40, size=5400)"
      ]
    },
    {
      "cell_type": "code",
      "source": [
        "import numpy as np\n",
        "from scipy.stats import bernoulli\n",
        "\n",
        "# Генерация выборок\n",
        "control_group = bernoulli.rvs(0.40, size=5300)  # Контрольная группа (5300 человек)\n",
        "target_group = bernoulli.rvs(0.40, size=5400)   # Тестовая группа (5400 человек)\n",
        "\n",
        "# Выводим статистику по группам\n",
        "control_conversions = np.sum(control_group)  # Общее количество конверсий в контрольной группе\n",
        "target_conversions = np.sum(target_group)    # Общее количество конверсий в тестовой группе\n",
        "\n",
        "control_conversion_rate = control_conversions / len(control_group)  # Конверсия в контрольной группе\n",
        "target_conversion_rate = target_conversions / len(target_group)     # Конверсия в тестовой группе\n",
        "\n",
        "print(f'Контрольная группа: Конверсий = {control_conversions}, Конверсия = {control_conversion_rate:.2%}')\n",
        "print(f'Тестовая группа: Конверсий = {target_conversions}, Конверсия = {target_conversion_rate:.2%}')\n"
      ],
      "metadata": {
        "colab": {
          "base_uri": "https://localhost:8080/"
        },
        "id": "n_UzgNjFHO10",
        "outputId": "02c9927b-c784-46dc-9f9c-29bcedc493f7"
      },
      "id": "n_UzgNjFHO10",
      "execution_count": 13,
      "outputs": [
        {
          "output_type": "stream",
          "name": "stdout",
          "text": [
            "Контрольная группа: Конверсий = 2109, Конверсия = 39.79%\n",
            "Тестовая группа: Конверсий = 2165, Конверсия = 40.09%\n"
          ]
        }
      ]
    },
    {
      "cell_type": "code",
      "execution_count": 14,
      "id": "56adb54b",
      "metadata": {
        "id": "56adb54b"
      },
      "outputs": [],
      "source": [
        "from statsmodels.stats.proportion import test_proportions_2indep\n"
      ]
    },
    {
      "cell_type": "code",
      "execution_count": 15,
      "id": "c9662779",
      "metadata": {
        "id": "c9662779"
      },
      "outputs": [],
      "source": [
        "control_group = bernoulli.rvs(0.40, size=5300)\n",
        "target_group = bernoulli.rvs(0.40, size=5400)"
      ]
    },
    {
      "cell_type": "code",
      "execution_count": 16,
      "id": "665f6522",
      "metadata": {
        "colab": {
          "base_uri": "https://localhost:8080/"
        },
        "id": "665f6522",
        "outputId": "4727fe84-fbe6-47dd-d086-6a66dd7b8f43"
      },
      "outputs": [
        {
          "output_type": "stream",
          "name": "stdout",
          "text": [
            "Доля успехов в контроле: 0.40452830188679245\n",
            "Доля успехов в тесте: 0.4035185185185185\n"
          ]
        }
      ],
      "source": [
        "positive_cg = sum(control_group)\n",
        "\n",
        "positive_tg = sum(target_group)\n",
        "\n",
        "print('Доля успехов в контроле:', positive_cg/len(control_group))\n",
        "print('Доля успехов в тесте:', positive_tg/len(target_group))"
      ]
    },
    {
      "cell_type": "code",
      "execution_count": 17,
      "id": "f1d090a5",
      "metadata": {
        "colab": {
          "base_uri": "https://localhost:8080/"
        },
        "id": "f1d090a5",
        "outputId": "80a0967a-f1e8-4d90-9491-50bb6d2c1fb7"
      },
      "outputs": [
        {
          "output_type": "execute_result",
          "data": {
            "text/plain": [
              "<class 'statsmodels.stats.base.HolderTuple'>\n",
              "statistic = 0.1064764522988396\n",
              "pvalue = 0.9152043375308123\n",
              "compare = 'diff'\n",
              "method = 'agresti-caffo'\n",
              "diff = 0.0010097833682739532\n",
              "ratio = 1.0025024461627716\n",
              "odds_ratio = 1.0042024602860233\n",
              "variance = 8.99914223361457e-05\n",
              "alternative = 'two-sided'\n",
              "value = 0\n",
              "tuple = (0.1064764522988396, 0.9152043375308123)"
            ]
          },
          "metadata": {},
          "execution_count": 17
        }
      ],
      "source": [
        "result = test_proportions_2indep(count1=positive_cg, nobs1=len(control_group), count2=positive_tg, nobs2=len(target_group))\n",
        "result"
      ]
    },
    {
      "cell_type": "code",
      "execution_count": 18,
      "id": "4b5ae007",
      "metadata": {
        "colab": {
          "base_uri": "https://localhost:8080/"
        },
        "id": "4b5ae007",
        "outputId": "099102a8-8700-4365-d4a9-13857ec98019"
      },
      "outputs": [
        {
          "output_type": "execute_result",
          "data": {
            "text/plain": [
              "0.043"
            ]
          },
          "metadata": {},
          "execution_count": 18
        }
      ],
      "source": [
        "false_positive = 0\n",
        "N = 1000\n",
        "for i in range(N):\n",
        "    control_group = bernoulli.rvs(0.40, size=5300)\n",
        "    target_group = bernoulli.rvs(0.40, size=5400)\n",
        "\n",
        "    positive_cg = sum(control_group)\n",
        "\n",
        "    positive_tg = sum(target_group)\n",
        "\n",
        "    result = test_proportions_2indep(count1=positive_cg, nobs1=len(control_group), count2=positive_tg, nobs2=len(target_group))\n",
        "\n",
        "    if result.pvalue<0.05:\n",
        "        false_positive+=1\n",
        "\n",
        "false_positive/N"
      ]
    },
    {
      "cell_type": "code",
      "execution_count": 19,
      "id": "b49b69fc",
      "metadata": {
        "id": "b49b69fc"
      },
      "outputs": [],
      "source": [
        "import pandas as pd"
      ]
    },
    {
      "cell_type": "code",
      "source": [
        "# Загрузка файла\n",
        "url = 'https://github.com/UzunDemir/10_Hybrid_Recommender_Systems/raw/main/marketing_AB.csv'\n",
        "data = pd.read_csv(url)\n",
        "\n",
        "# Просмотр первых нескольких строк\n",
        "data.head()\n"
      ],
      "metadata": {
        "colab": {
          "base_uri": "https://localhost:8080/",
          "height": 206
        },
        "id": "HFs7sgs-HxyM",
        "outputId": "e44b7981-10ee-4ec4-db0d-ca78dd3f5d68"
      },
      "id": "HFs7sgs-HxyM",
      "execution_count": 20,
      "outputs": [
        {
          "output_type": "execute_result",
          "data": {
            "text/plain": [
              "   Unnamed: 0  user id test group  converted  total ads most ads day  \\\n",
              "0           0  1069124         ad      False        130       Monday   \n",
              "1           1  1119715         ad      False         93      Tuesday   \n",
              "2           2  1144181         ad      False         21      Tuesday   \n",
              "3           3  1435133         ad      False        355      Tuesday   \n",
              "4           4  1015700         ad      False        276       Friday   \n",
              "\n",
              "   most ads hour  \n",
              "0             20  \n",
              "1             22  \n",
              "2             18  \n",
              "3             10  \n",
              "4             14  "
            ],
            "text/html": [
              "\n",
              "  <div id=\"df-1780265d-cdd0-4d2a-8d90-f85345d7a9ff\" class=\"colab-df-container\">\n",
              "    <div>\n",
              "<style scoped>\n",
              "    .dataframe tbody tr th:only-of-type {\n",
              "        vertical-align: middle;\n",
              "    }\n",
              "\n",
              "    .dataframe tbody tr th {\n",
              "        vertical-align: top;\n",
              "    }\n",
              "\n",
              "    .dataframe thead th {\n",
              "        text-align: right;\n",
              "    }\n",
              "</style>\n",
              "<table border=\"1\" class=\"dataframe\">\n",
              "  <thead>\n",
              "    <tr style=\"text-align: right;\">\n",
              "      <th></th>\n",
              "      <th>Unnamed: 0</th>\n",
              "      <th>user id</th>\n",
              "      <th>test group</th>\n",
              "      <th>converted</th>\n",
              "      <th>total ads</th>\n",
              "      <th>most ads day</th>\n",
              "      <th>most ads hour</th>\n",
              "    </tr>\n",
              "  </thead>\n",
              "  <tbody>\n",
              "    <tr>\n",
              "      <th>0</th>\n",
              "      <td>0</td>\n",
              "      <td>1069124</td>\n",
              "      <td>ad</td>\n",
              "      <td>False</td>\n",
              "      <td>130</td>\n",
              "      <td>Monday</td>\n",
              "      <td>20</td>\n",
              "    </tr>\n",
              "    <tr>\n",
              "      <th>1</th>\n",
              "      <td>1</td>\n",
              "      <td>1119715</td>\n",
              "      <td>ad</td>\n",
              "      <td>False</td>\n",
              "      <td>93</td>\n",
              "      <td>Tuesday</td>\n",
              "      <td>22</td>\n",
              "    </tr>\n",
              "    <tr>\n",
              "      <th>2</th>\n",
              "      <td>2</td>\n",
              "      <td>1144181</td>\n",
              "      <td>ad</td>\n",
              "      <td>False</td>\n",
              "      <td>21</td>\n",
              "      <td>Tuesday</td>\n",
              "      <td>18</td>\n",
              "    </tr>\n",
              "    <tr>\n",
              "      <th>3</th>\n",
              "      <td>3</td>\n",
              "      <td>1435133</td>\n",
              "      <td>ad</td>\n",
              "      <td>False</td>\n",
              "      <td>355</td>\n",
              "      <td>Tuesday</td>\n",
              "      <td>10</td>\n",
              "    </tr>\n",
              "    <tr>\n",
              "      <th>4</th>\n",
              "      <td>4</td>\n",
              "      <td>1015700</td>\n",
              "      <td>ad</td>\n",
              "      <td>False</td>\n",
              "      <td>276</td>\n",
              "      <td>Friday</td>\n",
              "      <td>14</td>\n",
              "    </tr>\n",
              "  </tbody>\n",
              "</table>\n",
              "</div>\n",
              "    <div class=\"colab-df-buttons\">\n",
              "\n",
              "  <div class=\"colab-df-container\">\n",
              "    <button class=\"colab-df-convert\" onclick=\"convertToInteractive('df-1780265d-cdd0-4d2a-8d90-f85345d7a9ff')\"\n",
              "            title=\"Convert this dataframe to an interactive table.\"\n",
              "            style=\"display:none;\">\n",
              "\n",
              "  <svg xmlns=\"http://www.w3.org/2000/svg\" height=\"24px\" viewBox=\"0 -960 960 960\">\n",
              "    <path d=\"M120-120v-720h720v720H120Zm60-500h600v-160H180v160Zm220 220h160v-160H400v160Zm0 220h160v-160H400v160ZM180-400h160v-160H180v160Zm440 0h160v-160H620v160ZM180-180h160v-160H180v160Zm440 0h160v-160H620v160Z\"/>\n",
              "  </svg>\n",
              "    </button>\n",
              "\n",
              "  <style>\n",
              "    .colab-df-container {\n",
              "      display:flex;\n",
              "      gap: 12px;\n",
              "    }\n",
              "\n",
              "    .colab-df-convert {\n",
              "      background-color: #E8F0FE;\n",
              "      border: none;\n",
              "      border-radius: 50%;\n",
              "      cursor: pointer;\n",
              "      display: none;\n",
              "      fill: #1967D2;\n",
              "      height: 32px;\n",
              "      padding: 0 0 0 0;\n",
              "      width: 32px;\n",
              "    }\n",
              "\n",
              "    .colab-df-convert:hover {\n",
              "      background-color: #E2EBFA;\n",
              "      box-shadow: 0px 1px 2px rgba(60, 64, 67, 0.3), 0px 1px 3px 1px rgba(60, 64, 67, 0.15);\n",
              "      fill: #174EA6;\n",
              "    }\n",
              "\n",
              "    .colab-df-buttons div {\n",
              "      margin-bottom: 4px;\n",
              "    }\n",
              "\n",
              "    [theme=dark] .colab-df-convert {\n",
              "      background-color: #3B4455;\n",
              "      fill: #D2E3FC;\n",
              "    }\n",
              "\n",
              "    [theme=dark] .colab-df-convert:hover {\n",
              "      background-color: #434B5C;\n",
              "      box-shadow: 0px 1px 3px 1px rgba(0, 0, 0, 0.15);\n",
              "      filter: drop-shadow(0px 1px 2px rgba(0, 0, 0, 0.3));\n",
              "      fill: #FFFFFF;\n",
              "    }\n",
              "  </style>\n",
              "\n",
              "    <script>\n",
              "      const buttonEl =\n",
              "        document.querySelector('#df-1780265d-cdd0-4d2a-8d90-f85345d7a9ff button.colab-df-convert');\n",
              "      buttonEl.style.display =\n",
              "        google.colab.kernel.accessAllowed ? 'block' : 'none';\n",
              "\n",
              "      async function convertToInteractive(key) {\n",
              "        const element = document.querySelector('#df-1780265d-cdd0-4d2a-8d90-f85345d7a9ff');\n",
              "        const dataTable =\n",
              "          await google.colab.kernel.invokeFunction('convertToInteractive',\n",
              "                                                    [key], {});\n",
              "        if (!dataTable) return;\n",
              "\n",
              "        const docLinkHtml = 'Like what you see? Visit the ' +\n",
              "          '<a target=\"_blank\" href=https://colab.research.google.com/notebooks/data_table.ipynb>data table notebook</a>'\n",
              "          + ' to learn more about interactive tables.';\n",
              "        element.innerHTML = '';\n",
              "        dataTable['output_type'] = 'display_data';\n",
              "        await google.colab.output.renderOutput(dataTable, element);\n",
              "        const docLink = document.createElement('div');\n",
              "        docLink.innerHTML = docLinkHtml;\n",
              "        element.appendChild(docLink);\n",
              "      }\n",
              "    </script>\n",
              "  </div>\n",
              "\n",
              "\n",
              "<div id=\"df-3bdd190f-f045-4905-95ea-5f0b820d7f53\">\n",
              "  <button class=\"colab-df-quickchart\" onclick=\"quickchart('df-3bdd190f-f045-4905-95ea-5f0b820d7f53')\"\n",
              "            title=\"Suggest charts\"\n",
              "            style=\"display:none;\">\n",
              "\n",
              "<svg xmlns=\"http://www.w3.org/2000/svg\" height=\"24px\"viewBox=\"0 0 24 24\"\n",
              "     width=\"24px\">\n",
              "    <g>\n",
              "        <path d=\"M19 3H5c-1.1 0-2 .9-2 2v14c0 1.1.9 2 2 2h14c1.1 0 2-.9 2-2V5c0-1.1-.9-2-2-2zM9 17H7v-7h2v7zm4 0h-2V7h2v10zm4 0h-2v-4h2v4z\"/>\n",
              "    </g>\n",
              "</svg>\n",
              "  </button>\n",
              "\n",
              "<style>\n",
              "  .colab-df-quickchart {\n",
              "      --bg-color: #E8F0FE;\n",
              "      --fill-color: #1967D2;\n",
              "      --hover-bg-color: #E2EBFA;\n",
              "      --hover-fill-color: #174EA6;\n",
              "      --disabled-fill-color: #AAA;\n",
              "      --disabled-bg-color: #DDD;\n",
              "  }\n",
              "\n",
              "  [theme=dark] .colab-df-quickchart {\n",
              "      --bg-color: #3B4455;\n",
              "      --fill-color: #D2E3FC;\n",
              "      --hover-bg-color: #434B5C;\n",
              "      --hover-fill-color: #FFFFFF;\n",
              "      --disabled-bg-color: #3B4455;\n",
              "      --disabled-fill-color: #666;\n",
              "  }\n",
              "\n",
              "  .colab-df-quickchart {\n",
              "    background-color: var(--bg-color);\n",
              "    border: none;\n",
              "    border-radius: 50%;\n",
              "    cursor: pointer;\n",
              "    display: none;\n",
              "    fill: var(--fill-color);\n",
              "    height: 32px;\n",
              "    padding: 0;\n",
              "    width: 32px;\n",
              "  }\n",
              "\n",
              "  .colab-df-quickchart:hover {\n",
              "    background-color: var(--hover-bg-color);\n",
              "    box-shadow: 0 1px 2px rgba(60, 64, 67, 0.3), 0 1px 3px 1px rgba(60, 64, 67, 0.15);\n",
              "    fill: var(--button-hover-fill-color);\n",
              "  }\n",
              "\n",
              "  .colab-df-quickchart-complete:disabled,\n",
              "  .colab-df-quickchart-complete:disabled:hover {\n",
              "    background-color: var(--disabled-bg-color);\n",
              "    fill: var(--disabled-fill-color);\n",
              "    box-shadow: none;\n",
              "  }\n",
              "\n",
              "  .colab-df-spinner {\n",
              "    border: 2px solid var(--fill-color);\n",
              "    border-color: transparent;\n",
              "    border-bottom-color: var(--fill-color);\n",
              "    animation:\n",
              "      spin 1s steps(1) infinite;\n",
              "  }\n",
              "\n",
              "  @keyframes spin {\n",
              "    0% {\n",
              "      border-color: transparent;\n",
              "      border-bottom-color: var(--fill-color);\n",
              "      border-left-color: var(--fill-color);\n",
              "    }\n",
              "    20% {\n",
              "      border-color: transparent;\n",
              "      border-left-color: var(--fill-color);\n",
              "      border-top-color: var(--fill-color);\n",
              "    }\n",
              "    30% {\n",
              "      border-color: transparent;\n",
              "      border-left-color: var(--fill-color);\n",
              "      border-top-color: var(--fill-color);\n",
              "      border-right-color: var(--fill-color);\n",
              "    }\n",
              "    40% {\n",
              "      border-color: transparent;\n",
              "      border-right-color: var(--fill-color);\n",
              "      border-top-color: var(--fill-color);\n",
              "    }\n",
              "    60% {\n",
              "      border-color: transparent;\n",
              "      border-right-color: var(--fill-color);\n",
              "    }\n",
              "    80% {\n",
              "      border-color: transparent;\n",
              "      border-right-color: var(--fill-color);\n",
              "      border-bottom-color: var(--fill-color);\n",
              "    }\n",
              "    90% {\n",
              "      border-color: transparent;\n",
              "      border-bottom-color: var(--fill-color);\n",
              "    }\n",
              "  }\n",
              "</style>\n",
              "\n",
              "  <script>\n",
              "    async function quickchart(key) {\n",
              "      const quickchartButtonEl =\n",
              "        document.querySelector('#' + key + ' button');\n",
              "      quickchartButtonEl.disabled = true;  // To prevent multiple clicks.\n",
              "      quickchartButtonEl.classList.add('colab-df-spinner');\n",
              "      try {\n",
              "        const charts = await google.colab.kernel.invokeFunction(\n",
              "            'suggestCharts', [key], {});\n",
              "      } catch (error) {\n",
              "        console.error('Error during call to suggestCharts:', error);\n",
              "      }\n",
              "      quickchartButtonEl.classList.remove('colab-df-spinner');\n",
              "      quickchartButtonEl.classList.add('colab-df-quickchart-complete');\n",
              "    }\n",
              "    (() => {\n",
              "      let quickchartButtonEl =\n",
              "        document.querySelector('#df-3bdd190f-f045-4905-95ea-5f0b820d7f53 button');\n",
              "      quickchartButtonEl.style.display =\n",
              "        google.colab.kernel.accessAllowed ? 'block' : 'none';\n",
              "    })();\n",
              "  </script>\n",
              "</div>\n",
              "    </div>\n",
              "  </div>\n"
            ],
            "application/vnd.google.colaboratory.intrinsic+json": {
              "type": "dataframe",
              "variable_name": "data"
            }
          },
          "metadata": {},
          "execution_count": 20
        }
      ]
    },
    {
      "cell_type": "code",
      "execution_count": 21,
      "id": "2846b667",
      "metadata": {
        "id": "2846b667"
      },
      "outputs": [],
      "source": [
        "#data = pd.read_csv('marketing_AB.csv')"
      ]
    },
    {
      "cell_type": "code",
      "execution_count": 22,
      "id": "c702a924",
      "metadata": {
        "colab": {
          "base_uri": "https://localhost:8080/",
          "height": 424
        },
        "id": "c702a924",
        "outputId": "72dde28b-4389-4b03-be7d-a120145ca1d8"
      },
      "outputs": [
        {
          "output_type": "execute_result",
          "data": {
            "text/plain": [
              "        Unnamed: 0  user id test group  converted  total ads most ads day  \\\n",
              "0                0  1069124         ad      False        130       Monday   \n",
              "1                1  1119715         ad      False         93      Tuesday   \n",
              "2                2  1144181         ad      False         21      Tuesday   \n",
              "3                3  1435133         ad      False        355      Tuesday   \n",
              "4                4  1015700         ad      False        276       Friday   \n",
              "...            ...      ...        ...        ...        ...          ...   \n",
              "588096      588096  1278437         ad      False          1      Tuesday   \n",
              "588097      588097  1327975         ad      False          1      Tuesday   \n",
              "588098      588098  1038442         ad      False          3      Tuesday   \n",
              "588099      588099  1496395         ad      False          1      Tuesday   \n",
              "588100      588100  1237779         ad      False          1      Tuesday   \n",
              "\n",
              "        most ads hour  \n",
              "0                  20  \n",
              "1                  22  \n",
              "2                  18  \n",
              "3                  10  \n",
              "4                  14  \n",
              "...               ...  \n",
              "588096             23  \n",
              "588097             23  \n",
              "588098             23  \n",
              "588099             23  \n",
              "588100             23  \n",
              "\n",
              "[588101 rows x 7 columns]"
            ],
            "text/html": [
              "\n",
              "  <div id=\"df-ae4ab1e7-eff1-4596-ab42-fe73fcca87d3\" class=\"colab-df-container\">\n",
              "    <div>\n",
              "<style scoped>\n",
              "    .dataframe tbody tr th:only-of-type {\n",
              "        vertical-align: middle;\n",
              "    }\n",
              "\n",
              "    .dataframe tbody tr th {\n",
              "        vertical-align: top;\n",
              "    }\n",
              "\n",
              "    .dataframe thead th {\n",
              "        text-align: right;\n",
              "    }\n",
              "</style>\n",
              "<table border=\"1\" class=\"dataframe\">\n",
              "  <thead>\n",
              "    <tr style=\"text-align: right;\">\n",
              "      <th></th>\n",
              "      <th>Unnamed: 0</th>\n",
              "      <th>user id</th>\n",
              "      <th>test group</th>\n",
              "      <th>converted</th>\n",
              "      <th>total ads</th>\n",
              "      <th>most ads day</th>\n",
              "      <th>most ads hour</th>\n",
              "    </tr>\n",
              "  </thead>\n",
              "  <tbody>\n",
              "    <tr>\n",
              "      <th>0</th>\n",
              "      <td>0</td>\n",
              "      <td>1069124</td>\n",
              "      <td>ad</td>\n",
              "      <td>False</td>\n",
              "      <td>130</td>\n",
              "      <td>Monday</td>\n",
              "      <td>20</td>\n",
              "    </tr>\n",
              "    <tr>\n",
              "      <th>1</th>\n",
              "      <td>1</td>\n",
              "      <td>1119715</td>\n",
              "      <td>ad</td>\n",
              "      <td>False</td>\n",
              "      <td>93</td>\n",
              "      <td>Tuesday</td>\n",
              "      <td>22</td>\n",
              "    </tr>\n",
              "    <tr>\n",
              "      <th>2</th>\n",
              "      <td>2</td>\n",
              "      <td>1144181</td>\n",
              "      <td>ad</td>\n",
              "      <td>False</td>\n",
              "      <td>21</td>\n",
              "      <td>Tuesday</td>\n",
              "      <td>18</td>\n",
              "    </tr>\n",
              "    <tr>\n",
              "      <th>3</th>\n",
              "      <td>3</td>\n",
              "      <td>1435133</td>\n",
              "      <td>ad</td>\n",
              "      <td>False</td>\n",
              "      <td>355</td>\n",
              "      <td>Tuesday</td>\n",
              "      <td>10</td>\n",
              "    </tr>\n",
              "    <tr>\n",
              "      <th>4</th>\n",
              "      <td>4</td>\n",
              "      <td>1015700</td>\n",
              "      <td>ad</td>\n",
              "      <td>False</td>\n",
              "      <td>276</td>\n",
              "      <td>Friday</td>\n",
              "      <td>14</td>\n",
              "    </tr>\n",
              "    <tr>\n",
              "      <th>...</th>\n",
              "      <td>...</td>\n",
              "      <td>...</td>\n",
              "      <td>...</td>\n",
              "      <td>...</td>\n",
              "      <td>...</td>\n",
              "      <td>...</td>\n",
              "      <td>...</td>\n",
              "    </tr>\n",
              "    <tr>\n",
              "      <th>588096</th>\n",
              "      <td>588096</td>\n",
              "      <td>1278437</td>\n",
              "      <td>ad</td>\n",
              "      <td>False</td>\n",
              "      <td>1</td>\n",
              "      <td>Tuesday</td>\n",
              "      <td>23</td>\n",
              "    </tr>\n",
              "    <tr>\n",
              "      <th>588097</th>\n",
              "      <td>588097</td>\n",
              "      <td>1327975</td>\n",
              "      <td>ad</td>\n",
              "      <td>False</td>\n",
              "      <td>1</td>\n",
              "      <td>Tuesday</td>\n",
              "      <td>23</td>\n",
              "    </tr>\n",
              "    <tr>\n",
              "      <th>588098</th>\n",
              "      <td>588098</td>\n",
              "      <td>1038442</td>\n",
              "      <td>ad</td>\n",
              "      <td>False</td>\n",
              "      <td>3</td>\n",
              "      <td>Tuesday</td>\n",
              "      <td>23</td>\n",
              "    </tr>\n",
              "    <tr>\n",
              "      <th>588099</th>\n",
              "      <td>588099</td>\n",
              "      <td>1496395</td>\n",
              "      <td>ad</td>\n",
              "      <td>False</td>\n",
              "      <td>1</td>\n",
              "      <td>Tuesday</td>\n",
              "      <td>23</td>\n",
              "    </tr>\n",
              "    <tr>\n",
              "      <th>588100</th>\n",
              "      <td>588100</td>\n",
              "      <td>1237779</td>\n",
              "      <td>ad</td>\n",
              "      <td>False</td>\n",
              "      <td>1</td>\n",
              "      <td>Tuesday</td>\n",
              "      <td>23</td>\n",
              "    </tr>\n",
              "  </tbody>\n",
              "</table>\n",
              "<p>588101 rows × 7 columns</p>\n",
              "</div>\n",
              "    <div class=\"colab-df-buttons\">\n",
              "\n",
              "  <div class=\"colab-df-container\">\n",
              "    <button class=\"colab-df-convert\" onclick=\"convertToInteractive('df-ae4ab1e7-eff1-4596-ab42-fe73fcca87d3')\"\n",
              "            title=\"Convert this dataframe to an interactive table.\"\n",
              "            style=\"display:none;\">\n",
              "\n",
              "  <svg xmlns=\"http://www.w3.org/2000/svg\" height=\"24px\" viewBox=\"0 -960 960 960\">\n",
              "    <path d=\"M120-120v-720h720v720H120Zm60-500h600v-160H180v160Zm220 220h160v-160H400v160Zm0 220h160v-160H400v160ZM180-400h160v-160H180v160Zm440 0h160v-160H620v160ZM180-180h160v-160H180v160Zm440 0h160v-160H620v160Z\"/>\n",
              "  </svg>\n",
              "    </button>\n",
              "\n",
              "  <style>\n",
              "    .colab-df-container {\n",
              "      display:flex;\n",
              "      gap: 12px;\n",
              "    }\n",
              "\n",
              "    .colab-df-convert {\n",
              "      background-color: #E8F0FE;\n",
              "      border: none;\n",
              "      border-radius: 50%;\n",
              "      cursor: pointer;\n",
              "      display: none;\n",
              "      fill: #1967D2;\n",
              "      height: 32px;\n",
              "      padding: 0 0 0 0;\n",
              "      width: 32px;\n",
              "    }\n",
              "\n",
              "    .colab-df-convert:hover {\n",
              "      background-color: #E2EBFA;\n",
              "      box-shadow: 0px 1px 2px rgba(60, 64, 67, 0.3), 0px 1px 3px 1px rgba(60, 64, 67, 0.15);\n",
              "      fill: #174EA6;\n",
              "    }\n",
              "\n",
              "    .colab-df-buttons div {\n",
              "      margin-bottom: 4px;\n",
              "    }\n",
              "\n",
              "    [theme=dark] .colab-df-convert {\n",
              "      background-color: #3B4455;\n",
              "      fill: #D2E3FC;\n",
              "    }\n",
              "\n",
              "    [theme=dark] .colab-df-convert:hover {\n",
              "      background-color: #434B5C;\n",
              "      box-shadow: 0px 1px 3px 1px rgba(0, 0, 0, 0.15);\n",
              "      filter: drop-shadow(0px 1px 2px rgba(0, 0, 0, 0.3));\n",
              "      fill: #FFFFFF;\n",
              "    }\n",
              "  </style>\n",
              "\n",
              "    <script>\n",
              "      const buttonEl =\n",
              "        document.querySelector('#df-ae4ab1e7-eff1-4596-ab42-fe73fcca87d3 button.colab-df-convert');\n",
              "      buttonEl.style.display =\n",
              "        google.colab.kernel.accessAllowed ? 'block' : 'none';\n",
              "\n",
              "      async function convertToInteractive(key) {\n",
              "        const element = document.querySelector('#df-ae4ab1e7-eff1-4596-ab42-fe73fcca87d3');\n",
              "        const dataTable =\n",
              "          await google.colab.kernel.invokeFunction('convertToInteractive',\n",
              "                                                    [key], {});\n",
              "        if (!dataTable) return;\n",
              "\n",
              "        const docLinkHtml = 'Like what you see? Visit the ' +\n",
              "          '<a target=\"_blank\" href=https://colab.research.google.com/notebooks/data_table.ipynb>data table notebook</a>'\n",
              "          + ' to learn more about interactive tables.';\n",
              "        element.innerHTML = '';\n",
              "        dataTable['output_type'] = 'display_data';\n",
              "        await google.colab.output.renderOutput(dataTable, element);\n",
              "        const docLink = document.createElement('div');\n",
              "        docLink.innerHTML = docLinkHtml;\n",
              "        element.appendChild(docLink);\n",
              "      }\n",
              "    </script>\n",
              "  </div>\n",
              "\n",
              "\n",
              "<div id=\"df-1a96930f-1f28-4102-b421-383cdb326a3d\">\n",
              "  <button class=\"colab-df-quickchart\" onclick=\"quickchart('df-1a96930f-1f28-4102-b421-383cdb326a3d')\"\n",
              "            title=\"Suggest charts\"\n",
              "            style=\"display:none;\">\n",
              "\n",
              "<svg xmlns=\"http://www.w3.org/2000/svg\" height=\"24px\"viewBox=\"0 0 24 24\"\n",
              "     width=\"24px\">\n",
              "    <g>\n",
              "        <path d=\"M19 3H5c-1.1 0-2 .9-2 2v14c0 1.1.9 2 2 2h14c1.1 0 2-.9 2-2V5c0-1.1-.9-2-2-2zM9 17H7v-7h2v7zm4 0h-2V7h2v10zm4 0h-2v-4h2v4z\"/>\n",
              "    </g>\n",
              "</svg>\n",
              "  </button>\n",
              "\n",
              "<style>\n",
              "  .colab-df-quickchart {\n",
              "      --bg-color: #E8F0FE;\n",
              "      --fill-color: #1967D2;\n",
              "      --hover-bg-color: #E2EBFA;\n",
              "      --hover-fill-color: #174EA6;\n",
              "      --disabled-fill-color: #AAA;\n",
              "      --disabled-bg-color: #DDD;\n",
              "  }\n",
              "\n",
              "  [theme=dark] .colab-df-quickchart {\n",
              "      --bg-color: #3B4455;\n",
              "      --fill-color: #D2E3FC;\n",
              "      --hover-bg-color: #434B5C;\n",
              "      --hover-fill-color: #FFFFFF;\n",
              "      --disabled-bg-color: #3B4455;\n",
              "      --disabled-fill-color: #666;\n",
              "  }\n",
              "\n",
              "  .colab-df-quickchart {\n",
              "    background-color: var(--bg-color);\n",
              "    border: none;\n",
              "    border-radius: 50%;\n",
              "    cursor: pointer;\n",
              "    display: none;\n",
              "    fill: var(--fill-color);\n",
              "    height: 32px;\n",
              "    padding: 0;\n",
              "    width: 32px;\n",
              "  }\n",
              "\n",
              "  .colab-df-quickchart:hover {\n",
              "    background-color: var(--hover-bg-color);\n",
              "    box-shadow: 0 1px 2px rgba(60, 64, 67, 0.3), 0 1px 3px 1px rgba(60, 64, 67, 0.15);\n",
              "    fill: var(--button-hover-fill-color);\n",
              "  }\n",
              "\n",
              "  .colab-df-quickchart-complete:disabled,\n",
              "  .colab-df-quickchart-complete:disabled:hover {\n",
              "    background-color: var(--disabled-bg-color);\n",
              "    fill: var(--disabled-fill-color);\n",
              "    box-shadow: none;\n",
              "  }\n",
              "\n",
              "  .colab-df-spinner {\n",
              "    border: 2px solid var(--fill-color);\n",
              "    border-color: transparent;\n",
              "    border-bottom-color: var(--fill-color);\n",
              "    animation:\n",
              "      spin 1s steps(1) infinite;\n",
              "  }\n",
              "\n",
              "  @keyframes spin {\n",
              "    0% {\n",
              "      border-color: transparent;\n",
              "      border-bottom-color: var(--fill-color);\n",
              "      border-left-color: var(--fill-color);\n",
              "    }\n",
              "    20% {\n",
              "      border-color: transparent;\n",
              "      border-left-color: var(--fill-color);\n",
              "      border-top-color: var(--fill-color);\n",
              "    }\n",
              "    30% {\n",
              "      border-color: transparent;\n",
              "      border-left-color: var(--fill-color);\n",
              "      border-top-color: var(--fill-color);\n",
              "      border-right-color: var(--fill-color);\n",
              "    }\n",
              "    40% {\n",
              "      border-color: transparent;\n",
              "      border-right-color: var(--fill-color);\n",
              "      border-top-color: var(--fill-color);\n",
              "    }\n",
              "    60% {\n",
              "      border-color: transparent;\n",
              "      border-right-color: var(--fill-color);\n",
              "    }\n",
              "    80% {\n",
              "      border-color: transparent;\n",
              "      border-right-color: var(--fill-color);\n",
              "      border-bottom-color: var(--fill-color);\n",
              "    }\n",
              "    90% {\n",
              "      border-color: transparent;\n",
              "      border-bottom-color: var(--fill-color);\n",
              "    }\n",
              "  }\n",
              "</style>\n",
              "\n",
              "  <script>\n",
              "    async function quickchart(key) {\n",
              "      const quickchartButtonEl =\n",
              "        document.querySelector('#' + key + ' button');\n",
              "      quickchartButtonEl.disabled = true;  // To prevent multiple clicks.\n",
              "      quickchartButtonEl.classList.add('colab-df-spinner');\n",
              "      try {\n",
              "        const charts = await google.colab.kernel.invokeFunction(\n",
              "            'suggestCharts', [key], {});\n",
              "      } catch (error) {\n",
              "        console.error('Error during call to suggestCharts:', error);\n",
              "      }\n",
              "      quickchartButtonEl.classList.remove('colab-df-spinner');\n",
              "      quickchartButtonEl.classList.add('colab-df-quickchart-complete');\n",
              "    }\n",
              "    (() => {\n",
              "      let quickchartButtonEl =\n",
              "        document.querySelector('#df-1a96930f-1f28-4102-b421-383cdb326a3d button');\n",
              "      quickchartButtonEl.style.display =\n",
              "        google.colab.kernel.accessAllowed ? 'block' : 'none';\n",
              "    })();\n",
              "  </script>\n",
              "</div>\n",
              "    </div>\n",
              "  </div>\n"
            ],
            "application/vnd.google.colaboratory.intrinsic+json": {
              "type": "dataframe",
              "variable_name": "data"
            }
          },
          "metadata": {},
          "execution_count": 22
        }
      ],
      "source": [
        "data"
      ]
    },
    {
      "cell_type": "code",
      "execution_count": 23,
      "id": "007c1e26",
      "metadata": {
        "colab": {
          "base_uri": "https://localhost:8080/"
        },
        "id": "007c1e26",
        "outputId": "6965864f-d20b-488f-aa3f-56eabe66950e"
      },
      "outputs": [
        {
          "output_type": "execute_result",
          "data": {
            "text/plain": [
              "564577"
            ]
          },
          "metadata": {},
          "execution_count": 23
        }
      ],
      "source": [
        "data[data['test group']=='ad']['user id'].nunique()"
      ]
    },
    {
      "cell_type": "code",
      "execution_count": 25,
      "id": "b3c55f04",
      "metadata": {
        "colab": {
          "base_uri": "https://localhost:8080/"
        },
        "id": "b3c55f04",
        "outputId": "6921fc85-3647-4280-d151-ba3f259daee4"
      },
      "outputs": [
        {
          "output_type": "stream",
          "name": "stdout",
          "text": [
            "Доля успехов в контроле: 0.01785410644448223\n",
            "Доля успехов в тесте: 0.025546559636683747\n"
          ]
        }
      ],
      "source": [
        "control_group = data[data['test group']=='psa']\n",
        "target_group = data[data['test group']=='ad']\n",
        "\n",
        "positive_cg = sum(data[data['test group']=='psa'].converted)\n",
        "\n",
        "positive_tg = sum(data[data['test group']=='ad'].converted)\n",
        "\n",
        "print('Доля успехов в контроле:', positive_cg/len(control_group))\n",
        "print('Доля успехов в тесте:', positive_tg/len(target_group))"
      ]
    },
    {
      "cell_type": "code",
      "execution_count": 24,
      "id": "6f3769d3",
      "metadata": {
        "colab": {
          "base_uri": "https://localhost:8080/"
        },
        "id": "6f3769d3",
        "outputId": "d3859e6a-645e-4aa8-9927-6bf864e26942"
      },
      "outputs": [
        {
          "output_type": "execute_result",
          "data": {
            "text/plain": [
              "<class 'statsmodels.stats.base.HolderTuple'>\n",
              "statistic = -0.8758853695063116\n",
              "pvalue = 0.38109235392150087\n",
              "compare = 'diff'\n",
              "method = 'agresti-caffo'\n",
              "diff = -0.00831586303284415\n",
              "ratio = 0.9796806966618288\n",
              "odds_ratio = 0.9660811629315567\n",
              "variance = 9.005880774617538e-05\n",
              "alternative = 'two-sided'\n",
              "value = 0\n",
              "tuple = (-0.8758853695063116, 0.38109235392150087)"
            ]
          },
          "metadata": {},
          "execution_count": 24
        }
      ],
      "source": [
        "result = test_proportions_2indep(count1=positive_cg, nobs1=len(control_group), count2=positive_tg, nobs2=len(target_group))\n",
        "result"
      ]
    }
  ],
  "metadata": {
    "kernelspec": {
      "display_name": "Python 3 (ipykernel)",
      "language": "python",
      "name": "python3"
    },
    "language_info": {
      "codemirror_mode": {
        "name": "ipython",
        "version": 3
      },
      "file_extension": ".py",
      "mimetype": "text/x-python",
      "name": "python",
      "nbconvert_exporter": "python",
      "pygments_lexer": "ipython3",
      "version": "3.10.11"
    },
    "colab": {
      "provenance": [],
      "include_colab_link": true
    }
  },
  "nbformat": 4,
  "nbformat_minor": 5
}