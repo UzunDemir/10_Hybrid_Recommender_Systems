{
 "cells": [
  {
   "cell_type": "code",
   "execution_count": 17,
   "id": "d9ff4b0f",
   "metadata": {},
   "outputs": [],
   "source": [
    "from statsmodels.stats.proportion import samplesize_proportions_2indep_onetail\n"
   ]
  },
  {
   "cell_type": "code",
   "execution_count": 18,
   "id": "b82ba975",
   "metadata": {},
   "outputs": [
    {
     "data": {
      "text/plain": [
       "5300.739171069878"
      ]
     },
     "execution_count": 18,
     "metadata": {},
     "output_type": "execute_result"
    }
   ],
   "source": [
    "samplesize_proportions_2indep_onetail(diff=0.01, prop2=0.03, power=0.8, alpha=0.05)"
   ]
  },
  {
   "cell_type": "code",
   "execution_count": 19,
   "id": "ebe77a15",
   "metadata": {},
   "outputs": [],
   "source": [
    "from scipy.stats import bernoulli"
   ]
  },
  {
   "cell_type": "code",
   "execution_count": 20,
   "id": "19a94704",
   "metadata": {},
   "outputs": [],
   "source": [
    "control_group = bernoulli.rvs(0.40, size=5300)\n",
    "target_group = bernoulli.rvs(0.40, size=5400)"
   ]
  },
  {
   "cell_type": "code",
   "execution_count": 21,
   "id": "56adb54b",
   "metadata": {},
   "outputs": [],
   "source": [
    "from statsmodels.stats.proportion import test_proportions_2indep\n"
   ]
  },
  {
   "cell_type": "code",
   "execution_count": null,
   "id": "c9662779",
   "metadata": {},
   "outputs": [],
   "source": [
    "control_group = bernoulli.rvs(0.40, size=5300)\n",
    "target_group = bernoulli.rvs(0.40, size=5400)"
   ]
  },
  {
   "cell_type": "code",
   "execution_count": 22,
   "id": "665f6522",
   "metadata": {},
   "outputs": [
    {
     "name": "stdout",
     "output_type": "stream",
     "text": [
      "Доля успехов в контроле: 0.4\n",
      "Доля успехов в тесте: 0.3975925925925926\n"
     ]
    }
   ],
   "source": [
    "positive_cg = sum(control_group)\n",
    "\n",
    "positive_tg = sum(target_group)\n",
    "\n",
    "print('Доля успехов в контроле:', positive_cg/len(control_group))\n",
    "print('Доля успехов в тесте:', positive_tg/len(target_group))"
   ]
  },
  {
   "cell_type": "code",
   "execution_count": 23,
   "id": "f1d090a5",
   "metadata": {},
   "outputs": [
    {
     "data": {
      "text/plain": [
       "<class 'statsmodels.stats.base.HolderTuple'>\n",
       "statistic = 0.254299093181876\n",
       "pvalue = 0.7992645003174861\n",
       "compare = 'diff'\n",
       "method = 'agresti-caffo'\n",
       "diff = 0.0024074074074074137\n",
       "ratio = 1.0060549604098743\n",
       "odds_ratio = 1.0100916006831238\n",
       "variance = 8.96065838302933e-05\n",
       "alternative = 'two-sided'\n",
       "value = 0\n",
       "tuple = (0.254299093181876, 0.7992645003174861)"
      ]
     },
     "execution_count": 23,
     "metadata": {},
     "output_type": "execute_result"
    }
   ],
   "source": [
    "result = test_proportions_2indep(count1=positive_cg, nobs1=len(control_group), count2=positive_tg, nobs2=len(target_group))\n",
    "result"
   ]
  },
  {
   "cell_type": "code",
   "execution_count": 24,
   "id": "4b5ae007",
   "metadata": {},
   "outputs": [
    {
     "data": {
      "text/plain": [
       "0.034"
      ]
     },
     "execution_count": 24,
     "metadata": {},
     "output_type": "execute_result"
    }
   ],
   "source": [
    "false_positive = 0\n",
    "N = 1000\n",
    "for i in range(N): \n",
    "    control_group = bernoulli.rvs(0.40, size=5300)\n",
    "    target_group = bernoulli.rvs(0.40, size=5400)\n",
    "\n",
    "    positive_cg = sum(control_group)\n",
    "\n",
    "    positive_tg = sum(target_group)\n",
    "\n",
    "    result = test_proportions_2indep(count1=positive_cg, nobs1=len(control_group), count2=positive_tg, nobs2=len(target_group))\n",
    "\n",
    "    if result.pvalue<0.05: \n",
    "        false_positive+=1\n",
    "\n",
    "false_positive/N"
   ]
  },
  {
   "cell_type": "code",
   "execution_count": 25,
   "id": "b49b69fc",
   "metadata": {},
   "outputs": [],
   "source": [
    "import pandas as pd"
   ]
  },
  {
   "cell_type": "code",
   "execution_count": 26,
   "id": "2846b667",
   "metadata": {},
   "outputs": [],
   "source": [
    "data = pd.read_csv('marketing_AB.csv')"
   ]
  },
  {
   "cell_type": "code",
   "execution_count": 27,
   "id": "c702a924",
   "metadata": {},
   "outputs": [
    {
     "data": {
      "text/html": [
       "<div>\n",
       "<style scoped>\n",
       "    .dataframe tbody tr th:only-of-type {\n",
       "        vertical-align: middle;\n",
       "    }\n",
       "\n",
       "    .dataframe tbody tr th {\n",
       "        vertical-align: top;\n",
       "    }\n",
       "\n",
       "    .dataframe thead th {\n",
       "        text-align: right;\n",
       "    }\n",
       "</style>\n",
       "<table border=\"1\" class=\"dataframe\">\n",
       "  <thead>\n",
       "    <tr style=\"text-align: right;\">\n",
       "      <th></th>\n",
       "      <th>Unnamed: 0</th>\n",
       "      <th>user id</th>\n",
       "      <th>test group</th>\n",
       "      <th>converted</th>\n",
       "      <th>total ads</th>\n",
       "      <th>most ads day</th>\n",
       "      <th>most ads hour</th>\n",
       "    </tr>\n",
       "  </thead>\n",
       "  <tbody>\n",
       "    <tr>\n",
       "      <th>0</th>\n",
       "      <td>0</td>\n",
       "      <td>1069124</td>\n",
       "      <td>ad</td>\n",
       "      <td>False</td>\n",
       "      <td>130</td>\n",
       "      <td>Monday</td>\n",
       "      <td>20</td>\n",
       "    </tr>\n",
       "    <tr>\n",
       "      <th>1</th>\n",
       "      <td>1</td>\n",
       "      <td>1119715</td>\n",
       "      <td>ad</td>\n",
       "      <td>False</td>\n",
       "      <td>93</td>\n",
       "      <td>Tuesday</td>\n",
       "      <td>22</td>\n",
       "    </tr>\n",
       "    <tr>\n",
       "      <th>2</th>\n",
       "      <td>2</td>\n",
       "      <td>1144181</td>\n",
       "      <td>ad</td>\n",
       "      <td>False</td>\n",
       "      <td>21</td>\n",
       "      <td>Tuesday</td>\n",
       "      <td>18</td>\n",
       "    </tr>\n",
       "    <tr>\n",
       "      <th>3</th>\n",
       "      <td>3</td>\n",
       "      <td>1435133</td>\n",
       "      <td>ad</td>\n",
       "      <td>False</td>\n",
       "      <td>355</td>\n",
       "      <td>Tuesday</td>\n",
       "      <td>10</td>\n",
       "    </tr>\n",
       "    <tr>\n",
       "      <th>4</th>\n",
       "      <td>4</td>\n",
       "      <td>1015700</td>\n",
       "      <td>ad</td>\n",
       "      <td>False</td>\n",
       "      <td>276</td>\n",
       "      <td>Friday</td>\n",
       "      <td>14</td>\n",
       "    </tr>\n",
       "    <tr>\n",
       "      <th>...</th>\n",
       "      <td>...</td>\n",
       "      <td>...</td>\n",
       "      <td>...</td>\n",
       "      <td>...</td>\n",
       "      <td>...</td>\n",
       "      <td>...</td>\n",
       "      <td>...</td>\n",
       "    </tr>\n",
       "    <tr>\n",
       "      <th>588096</th>\n",
       "      <td>588096</td>\n",
       "      <td>1278437</td>\n",
       "      <td>ad</td>\n",
       "      <td>False</td>\n",
       "      <td>1</td>\n",
       "      <td>Tuesday</td>\n",
       "      <td>23</td>\n",
       "    </tr>\n",
       "    <tr>\n",
       "      <th>588097</th>\n",
       "      <td>588097</td>\n",
       "      <td>1327975</td>\n",
       "      <td>ad</td>\n",
       "      <td>False</td>\n",
       "      <td>1</td>\n",
       "      <td>Tuesday</td>\n",
       "      <td>23</td>\n",
       "    </tr>\n",
       "    <tr>\n",
       "      <th>588098</th>\n",
       "      <td>588098</td>\n",
       "      <td>1038442</td>\n",
       "      <td>ad</td>\n",
       "      <td>False</td>\n",
       "      <td>3</td>\n",
       "      <td>Tuesday</td>\n",
       "      <td>23</td>\n",
       "    </tr>\n",
       "    <tr>\n",
       "      <th>588099</th>\n",
       "      <td>588099</td>\n",
       "      <td>1496395</td>\n",
       "      <td>ad</td>\n",
       "      <td>False</td>\n",
       "      <td>1</td>\n",
       "      <td>Tuesday</td>\n",
       "      <td>23</td>\n",
       "    </tr>\n",
       "    <tr>\n",
       "      <th>588100</th>\n",
       "      <td>588100</td>\n",
       "      <td>1237779</td>\n",
       "      <td>ad</td>\n",
       "      <td>False</td>\n",
       "      <td>1</td>\n",
       "      <td>Tuesday</td>\n",
       "      <td>23</td>\n",
       "    </tr>\n",
       "  </tbody>\n",
       "</table>\n",
       "<p>588101 rows × 7 columns</p>\n",
       "</div>"
      ],
      "text/plain": [
       "        Unnamed: 0  user id test group  converted  total ads most ads day  \\\n",
       "0                0  1069124         ad      False        130       Monday   \n",
       "1                1  1119715         ad      False         93      Tuesday   \n",
       "2                2  1144181         ad      False         21      Tuesday   \n",
       "3                3  1435133         ad      False        355      Tuesday   \n",
       "4                4  1015700         ad      False        276       Friday   \n",
       "...            ...      ...        ...        ...        ...          ...   \n",
       "588096      588096  1278437         ad      False          1      Tuesday   \n",
       "588097      588097  1327975         ad      False          1      Tuesday   \n",
       "588098      588098  1038442         ad      False          3      Tuesday   \n",
       "588099      588099  1496395         ad      False          1      Tuesday   \n",
       "588100      588100  1237779         ad      False          1      Tuesday   \n",
       "\n",
       "        most ads hour  \n",
       "0                  20  \n",
       "1                  22  \n",
       "2                  18  \n",
       "3                  10  \n",
       "4                  14  \n",
       "...               ...  \n",
       "588096             23  \n",
       "588097             23  \n",
       "588098             23  \n",
       "588099             23  \n",
       "588100             23  \n",
       "\n",
       "[588101 rows x 7 columns]"
      ]
     },
     "execution_count": 27,
     "metadata": {},
     "output_type": "execute_result"
    }
   ],
   "source": [
    "data"
   ]
  },
  {
   "cell_type": "code",
   "execution_count": 28,
   "id": "007c1e26",
   "metadata": {},
   "outputs": [
    {
     "data": {
      "text/plain": [
       "564577"
      ]
     },
     "execution_count": 28,
     "metadata": {},
     "output_type": "execute_result"
    }
   ],
   "source": [
    "data[data['test group']=='ad']['user id'].nunique()"
   ]
  },
  {
   "cell_type": "code",
   "execution_count": 29,
   "id": "b3c55f04",
   "metadata": {},
   "outputs": [
    {
     "name": "stdout",
     "output_type": "stream",
     "text": [
      "Доля успехов в контроле: 0.01785410644448223\n",
      "Доля успехов в тесте: 0.025546559636683747\n"
     ]
    }
   ],
   "source": [
    "control_group = data[data['test group']=='psa']\n",
    "target_group = data[data['test group']=='ad']\n",
    "\n",
    "positive_cg = sum(data[data['test group']=='psa'].converted)\n",
    "\n",
    "positive_tg = sum(data[data['test group']=='ad'].converted)\n",
    "\n",
    "print('Доля успехов в контроле:', positive_cg/len(control_group))\n",
    "print('Доля успехов в тесте:', positive_tg/len(target_group))"
   ]
  },
  {
   "cell_type": "code",
   "execution_count": 30,
   "id": "6f3769d3",
   "metadata": {},
   "outputs": [
    {
     "data": {
      "text/plain": [
       "<class 'statsmodels.stats.base.HolderTuple'>\n",
       "statistic = -8.60427939409835\n",
       "pvalue = 7.679770490716084e-18\n",
       "compare = 'diff'\n",
       "method = 'agresti-caffo'\n",
       "diff = -0.007692453192201517\n",
       "ratio = 0.6988849652711949\n",
       "odds_ratio = 0.6934110943143866\n",
       "variance = 7.911356247739569e-07\n",
       "alternative = 'two-sided'\n",
       "value = 0\n",
       "tuple = (-8.60427939409835, 7.679770490716084e-18)"
      ]
     },
     "execution_count": 30,
     "metadata": {},
     "output_type": "execute_result"
    }
   ],
   "source": [
    "result = test_proportions_2indep(count1=positive_cg, nobs1=len(control_group), count2=positive_tg, nobs2=len(target_group))\n",
    "result"
   ]
  }
 ],
 "metadata": {
  "kernelspec": {
   "display_name": "Python 3 (ipykernel)",
   "language": "python",
   "name": "python3"
  },
  "language_info": {
   "codemirror_mode": {
    "name": "ipython",
    "version": 3
   },
   "file_extension": ".py",
   "mimetype": "text/x-python",
   "name": "python",
   "nbconvert_exporter": "python",
   "pygments_lexer": "ipython3",
   "version": "3.10.11"
  }
 },
 "nbformat": 4,
 "nbformat_minor": 5
}
